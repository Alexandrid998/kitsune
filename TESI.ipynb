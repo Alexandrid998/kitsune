{
 "cells": [
  {
   "cell_type": "code",
   "execution_count": null,
   "metadata": {},
   "outputs": [],
   "source": [
    "import pandas as pd"
   ]
  },
  {
   "cell_type": "code",
   "execution_count": null,
   "metadata": {},
   "outputs": [],
   "source": [
    "benign_traffic_Danmini=pd.read_csv('benign_traffic_Danmini_Doorbell.csv', delimiter=',')\n"
   ]
  },
  {
   "cell_type": "code",
   "execution_count": null,
   "metadata": {},
   "outputs": [],
   "source": [
    "benign_traffic_Danmini"
   ]
  },
  {
   "cell_type": "code",
   "execution_count": null,
   "metadata": {},
   "outputs": [],
   "source": [
    "benign_traffic_Danmini['Benign']=1\n",
    "benign_traffic_Danmini"
   ]
  },
  {
   "cell_type": "code",
   "execution_count": null,
   "metadata": {},
   "outputs": [],
   "source": [
    "benign_traffic_Webcam=pd.read_csv('benign_traffic_Webcam.csv', delimiter=',')\n",
    "benign_traffic_Webcam['Benign']=1\n",
    "benign_traffic_Webcam"
   ]
  },
  {
   "cell_type": "code",
   "execution_count": null,
   "metadata": {},
   "outputs": [],
   "source": [
    "benign_traffic_Ecobee_Thermostat=pd.read_csv('benign_traffic_Ecobee_Thermostat.csv', delimiter=',')\n",
    "benign_traffic_Ecobee_Thermostat['Benign']=1\n",
    "benign_traffic_Ecobee_Thermostat"
   ]
  },
  {
   "cell_type": "code",
   "execution_count": null,
   "metadata": {},
   "outputs": [],
   "source": [
    "benign_traffic_Ennio_Doorbell=pd.read_csv('benign_traffic_Ennio_Doorbell.csv', delimiter=',')\n",
    "benign_traffic_Ennio_Doorbell['Benign']=1\n",
    "benign_traffic_Ennio_Doorbell"
   ]
  },
  {
   "cell_type": "code",
   "execution_count": null,
   "metadata": {},
   "outputs": [],
   "source": [
    "benign_traffic_Baby_Monitor=pd.read_csv('benign_traffic_Baby_Monitor.csv', delimiter=',')\n",
    "benign_traffic_Baby_Monitor['Benign']=1\n",
    "benign_traffic_Baby_Monitor"
   ]
  },
  {
   "cell_type": "code",
   "execution_count": null,
   "metadata": {},
   "outputs": [],
   "source": [
    "import pandas as pd"
   ]
  },
  {
   "cell_type": "code",
   "execution_count": null,
   "metadata": {},
   "outputs": [],
   "source": [
    "benign_traffic_838_Security_Camera=pd.read_csv('benign_traffic_838_Security_Camera.csv', delimiter=',')\n",
    "benign_traffic_838_Security_Camera['Benign']=1\n",
    "benign_traffic_838_Security_Camera"
   ]
  },
  {
   "cell_type": "code",
   "execution_count": null,
   "metadata": {},
   "outputs": [],
   "source": [
    "benign_traffic_Danmini\n"
   ]
  },
  {
   "cell_type": "code",
   "execution_count": null,
   "metadata": {},
   "outputs": [],
   "source": [
    "benign_traffic_737E_Security_Camera=pd.read_csv('benign_traffic_737E_Security_Camera.csv', delimiter=',')\n",
    "benign_traffic_737E_Security_Camera['Benign']=1\n",
    "benign_traffic_737E_Security_Camera"
   ]
  },
  {
   "cell_type": "code",
   "execution_count": null,
   "metadata": {},
   "outputs": [],
   "source": [
    "benign_traffic_1002_WHT_Security_Camera=pd.read_csv('benign_traffic_1002_WHT_Security_Camera.csv', delimiter=',')\n",
    "benign_traffic_1002_WHT_Security_Camera['Benign']=1\n",
    "benign_traffic_1002_WHT_Security_Camera"
   ]
  },
  {
   "cell_type": "code",
   "execution_count": null,
   "metadata": {},
   "outputs": [],
   "source": [
    "benign_traffic_1003_WHT_Security_Camera=pd.read_csv('benign_traffic_1003_WHT_Security_Camera.csv', delimiter=',')\n",
    "benign_traffic_1003_WHT_Security_Camera['Benign']=1\n",
    "benign_traffic_1003_WHT_Security_Camera"
   ]
  },
  {
   "cell_type": "code",
   "execution_count": null,
   "metadata": {},
   "outputs": [],
   "source": [
    "benign_traffic= pd.concat([benign_traffic_1002_WHT_Security_Camera,benign_traffic_1003_WHT_Security_Camera,benign_traffic_737E_Security_Camera,benign_traffic_838_Security_Camera,benign_traffic_Baby_Monitor,benign_traffic_Danmini,benign_traffic_Ecobee_Thermostat,benign_traffic_Webcam,benign_traffic_Ennio_Doorbell], ignore_index=True)"
   ]
  },
  {
   "cell_type": "code",
   "execution_count": null,
   "metadata": {},
   "outputs": [],
   "source": [
    "benign_traffic"
   ]
  },
  {
   "cell_type": "code",
   "execution_count": null,
   "metadata": {},
   "outputs": [],
   "source": [
    "gafgyt_attacks_1002_WHT_Security_Camera_combo=pd.read_csv('gafgyt_attacks_1002_WHT_Security_Camera/combo.csv', delimiter=',')\n"
   ]
  },
  {
   "cell_type": "code",
   "execution_count": null,
   "metadata": {},
   "outputs": [],
   "source": [
    "gafgyt_attacks_1002_WHT_Security_Camera_junk=pd.read_csv('gafgyt_attacks_1002_WHT_Security_Camera/junk.csv', delimiter=',')\n",
    "gafgyt_attacks_1002_WHT_Security_Camera_scan=pd.read_csv('gafgyt_attacks_1002_WHT_Security_Camera/scan.csv', delimiter=',')\n",
    "gafgyt_attacks_1002_WHT_Security_Camera_tcp=pd.read_csv('gafgyt_attacks_1002_WHT_Security_Camera/tcp.csv', delimiter=',')\n",
    "gafgyt_attacks_1002_WHT_Security_Camera_udp=pd.read_csv('gafgyt_attacks_1002_WHT_Security_Camera/udp.csv', delimiter=',')"
   ]
  },
  {
   "cell_type": "code",
   "execution_count": null,
   "metadata": {},
   "outputs": [],
   "source": [
    "gafgyt_attacks_1002_WHT_Security_Camera=pd.concat([gafgyt_attacks_1002_WHT_Security_Camera_combo,gafgyt_attacks_1002_WHT_Security_Camera_junk,gafgyt_attacks_1002_WHT_Security_Camera_scan,gafgyt_attacks_1002_WHT_Security_Camera_tcp,gafgyt_attacks_1002_WHT_Security_Camera_udp], ignore_index=True)"
   ]
  },
  {
   "cell_type": "code",
   "execution_count": null,
   "metadata": {},
   "outputs": [],
   "source": [
    "gafgyt_attacks_1002_WHT_Security_Camera.tail(10)"
   ]
  },
  {
   "cell_type": "code",
   "execution_count": null,
   "metadata": {},
   "outputs": [],
   "source": [
    "gafgyt_attacks_1002_WHT_Security_Camera"
   ]
  },
  {
   "cell_type": "code",
   "execution_count": null,
   "metadata": {},
   "outputs": [],
   "source": [
    "gafgyt_attacks_1003_WHT_Security_Camera_combo=pd.read_csv('gafgyt_attacks_1003_WHT_Security_Camera/combo.csv', delimiter=',')\n",
    "gafgyt_attacks_1003_WHT_Security_Camera_junk=pd.read_csv('gafgyt_attacks_1003_WHT_Security_Camera/junk.csv', delimiter=',')\n",
    "gafgyt_attacks_1003_WHT_Security_Camera_scan=pd.read_csv('gafgyt_attacks_1003_WHT_Security_Camera/scan.csv', delimiter=',')\n",
    "gafgyt_attacks_1003_WHT_Security_Camera_tcp=pd.read_csv('gafgyt_attacks_1003_WHT_Security_Camera/tcp.csv', delimiter=',')\n",
    "gafgyt_attacks_1003_WHT_Security_Camera_udp=pd.read_csv('gafgyt_attacks_1003_WHT_Security_Camera/udp.csv', delimiter=',')\n"
   ]
  },
  {
   "cell_type": "code",
   "execution_count": null,
   "metadata": {},
   "outputs": [],
   "source": [
    "gafgyt_attacks_1003_WHT_Security_Camera=pd.concat([gafgyt_attacks_1003_WHT_Security_Camera_combo,gafgyt_attacks_1003_WHT_Security_Camera_junk,gafgyt_attacks_1003_WHT_Security_Camera_scan,gafgyt_attacks_1003_WHT_Security_Camera_tcp,gafgyt_attacks_1003_WHT_Security_Camera_udp], ignore_index=True)\n",
    "gafgyt_attacks_1003_WHT_Security_Camera"
   ]
  },
  {
   "cell_type": "code",
   "execution_count": null,
   "metadata": {},
   "outputs": [],
   "source": [
    "gafgyt_attacks_737E_Security_Camera_combo=pd.read_csv('gafgyt_attacks_737E_Security_Camera/combo.csv', delimiter=',')\n",
    "gafgyt_attacks_737E_Security_Camera_junk=pd.read_csv('gafgyt_attacks_737E_Security_Camera/junk.csv', delimiter=',')\n",
    "gafgyt_attacks_737E_Security_Camera_scan=pd.read_csv('gafgyt_attacks_737E_Security_Camera/scan.csv', delimiter=',')\n",
    "gafgyt_attacks_737E_Security_Camera_tcp=pd.read_csv('gafgyt_attacks_737E_Security_Camera/tcp.csv', delimiter=',')\n",
    "gafgyt_attacks_737E_Security_Camera_udp=pd.read_csv('gafgyt_attacks_737E_Security_Camera/udp.csv', delimiter=',')"
   ]
  },
  {
   "cell_type": "code",
   "execution_count": null,
   "metadata": {},
   "outputs": [],
   "source": [
    "gafgyt_attacks_737E_Security_Camera=pd.concat([gafgyt_attacks_737E_Security_Camera_combo,gafgyt_attacks_737E_Security_Camera_junk,gafgyt_attacks_737E_Security_Camera_scan,gafgyt_attacks_737E_Security_Camera_tcp,gafgyt_attacks_737E_Security_Camera_udp], ignore_index=True)\n",
    "gafgyt_attacks_737E_Security_Camera"
   ]
  },
  {
   "cell_type": "code",
   "execution_count": null,
   "metadata": {},
   "outputs": [],
   "source": [
    "gafgyt_attacks_838_Security_Camera_combo=pd.read_csv('gafgyt_attacks_838_Security_Camera/combo.csv', delimiter=',')\n",
    "gafgyt_attacks_838_Security_Camera_junk=pd.read_csv('gafgyt_attacks_838_Security_Camera/junk.csv', delimiter=',')\n",
    "gafgyt_attacks_838_Security_Camera_scan=pd.read_csv('gafgyt_attacks_838_Security_Camera/scan.csv', delimiter=',')\n",
    "gafgyt_attacks_838_Security_Camera_tcp=pd.read_csv('gafgyt_attacks_838_Security_Camera/tcp.csv', delimiter=',')\n",
    "gafgyt_attacks_838_Security_Camera_udp=pd.read_csv('gafgyt_attacks_838_Security_Camera/udp.csv', delimiter=',')"
   ]
  },
  {
   "cell_type": "code",
   "execution_count": null,
   "metadata": {},
   "outputs": [],
   "source": [
    "gafgyt_attacks_838_Security_Camera=pd.concat([gafgyt_attacks_838_Security_Camera_combo,gafgyt_attacks_838_Security_Camera_junk,gafgyt_attacks_838_Security_Camera_scan,gafgyt_attacks_838_Security_Camera_tcp,gafgyt_attacks_838_Security_Camera_udp],ignore_index=True)\n",
    "gafgyt_attacks_838_Security_Camera"
   ]
  },
  {
   "cell_type": "code",
   "execution_count": null,
   "metadata": {},
   "outputs": [],
   "source": [
    "gafgyt_attacks_Baby_Monitor_combo=pd.read_csv('gafgyt_attacks_Baby_Monitor/combo.csv', delimiter=',')\n",
    "gafgyt_attacks_Baby_Monitor_junk=pd.read_csv('gafgyt_attacks_Baby_Monitor/junk.csv', delimiter=',')\n",
    "gafgyt_attacks_Baby_Monitor_scan=pd.read_csv('gafgyt_attacks_Baby_Monitor/scan.csv', delimiter=',')\n",
    "gafgyt_attacks_Baby_Monitor_tcp=pd.read_csv('gafgyt_attacks_Baby_Monitor/tcp.csv', delimiter=',')\n",
    "gafgyt_attacks_Baby_Monitor_udp=pd.read_csv('gafgyt_attacks_Baby_Monitor/udp.csv', delimiter=',')"
   ]
  },
  {
   "cell_type": "code",
   "execution_count": null,
   "metadata": {},
   "outputs": [],
   "source": [
    "gafgyt_attacks_Baby_Monitor=pd.concat([gafgyt_attacks_Baby_Monitor_combo,gafgyt_attacks_Baby_Monitor_junk,gafgyt_attacks_Baby_Monitor_scan,gafgyt_attacks_Baby_Monitor_tcp,gafgyt_attacks_Baby_Monitor_udp],ignore_index=True)\n",
    "gafgyt_attacks_Baby_Monitor"
   ]
  },
  {
   "cell_type": "code",
   "execution_count": null,
   "metadata": {},
   "outputs": [],
   "source": [
    "gafgyt_attacks_Danmini_Doorbell_combo=pd.read_csv('gafgyt_attacks_Danmini_Doorbell/combo.csv', delimiter=',')\n",
    "gafgyt_attacks_Danmini_Doorbell_junk=pd.read_csv('gafgyt_attacks_Danmini_Doorbell/junk.csv', delimiter=',')\n",
    "gafgyt_attacks_Danmini_Doorbell_scan=pd.read_csv('gafgyt_attacks_Danmini_Doorbell/scan.csv', delimiter=',')\n",
    "gafgyt_attacks_Danmini_Doorbell_tcp=pd.read_csv('gafgyt_attacks_Danmini_Doorbell/tcp.csv', delimiter=',')\n",
    "gafgyt_attacks_Danmini_Doorbell_udp=pd.read_csv('gafgyt_attacks_Danmini_Doorbell/udp.csv', delimiter=',')"
   ]
  },
  {
   "cell_type": "code",
   "execution_count": null,
   "metadata": {},
   "outputs": [],
   "source": [
    "gafgyt_attacks_Danmini_Doorbell=pd.concat([gafgyt_attacks_Danmini_Doorbell_combo,gafgyt_attacks_Danmini_Doorbell_junk,gafgyt_attacks_Danmini_Doorbell_scan,gafgyt_attacks_Danmini_Doorbell_tcp,gafgyt_attacks_Danmini_Doorbell_udp],ignore_index=True)\n",
    "gafgyt_attacks_Danmini_Doorbell"
   ]
  },
  {
   "cell_type": "code",
   "execution_count": null,
   "metadata": {},
   "outputs": [],
   "source": [
    "gafgyt_attacks_Ecobee_Thermostat_combo=pd.read_csv('gafgyt_attacks_Ecobee_Thermostat/combo.csv', delimiter=',')\n",
    "gafgyt_attacks_Ecobee_Thermostat_junk=pd.read_csv('gafgyt_attacks_Ecobee_Thermostat/junk.csv', delimiter=',')\n",
    "gafgyt_attacks_Ecobee_Thermostat_scan=pd.read_csv('gafgyt_attacks_Ecobee_Thermostat/scan.csv', delimiter=',')\n",
    "gafgyt_attacks_Ecobee_Thermostat_tcp=pd.read_csv('gafgyt_attacks_Ecobee_Thermostat/tcp.csv', delimiter=',')\n",
    "gafgyt_attacks_Ecobee_Thermostat_udp=pd.read_csv('gafgyt_attacks_Ecobee_Thermostat/udp.csv', delimiter=',')"
   ]
  },
  {
   "cell_type": "code",
   "execution_count": null,
   "metadata": {},
   "outputs": [],
   "source": [
    "gafgyt_attacks_Ecobee_Thermostat=pd.concat([gafgyt_attacks_Ecobee_Thermostat_combo,gafgyt_attacks_Ecobee_Thermostat_junk,gafgyt_attacks_Ecobee_Thermostat_scan,gafgyt_attacks_Ecobee_Thermostat_tcp,gafgyt_attacks_Ecobee_Thermostat_udp],ignore_index=True)\n",
    "gafgyt_attacks_Ecobee_Thermostat"
   ]
  },
  {
   "cell_type": "code",
   "execution_count": null,
   "metadata": {},
   "outputs": [],
   "source": [
    "gafgyt_attacks_Ennio_Doorbell_combo=pd.read_csv('gafgyt_attacks_Ennio_Doorbell/combo.csv', delimiter=',')\n",
    "gafgyt_attacks_Ennio_Doorbell_junk=pd.read_csv('gafgyt_attacks_Ennio_Doorbell/junk.csv', delimiter=',')\n",
    "gafgyt_attacks_Ennio_Doorbell_scan=pd.read_csv('gafgyt_attacks_Ennio_Doorbell/scan.csv', delimiter=',')\n",
    "gafgyt_attacks_Ennio_Doorbell_tcp=pd.read_csv('gafgyt_attacks_Ennio_Doorbell/tcp.csv', delimiter=',')\n",
    "gafgyt_attacks_Ennio_Doorbell_udp=pd.read_csv('gafgyt_attacks_Ennio_Doorbell/udp.csv', delimiter=',')"
   ]
  },
  {
   "cell_type": "code",
   "execution_count": null,
   "metadata": {},
   "outputs": [],
   "source": [
    "gafgyt_attacks_Ennio_Doorbell=pd.concat([gafgyt_attacks_Ennio_Doorbell_combo,gafgyt_attacks_Ennio_Doorbell_junk,gafgyt_attacks_Ennio_Doorbell_scan,gafgyt_attacks_Ennio_Doorbell_tcp,gafgyt_attacks_Ennio_Doorbell_udp],ignore_index=True)\n",
    "gafgyt_attacks_Ennio_Doorbell"
   ]
  },
  {
   "cell_type": "code",
   "execution_count": null,
   "metadata": {},
   "outputs": [],
   "source": [
    "gafgyt_attacks_Webcam_combo=pd.read_csv('gafgyt_attacks_Webcam/combo.csv', delimiter=',')\n",
    "gafgyt_attacks_Webcam_junk=pd.read_csv('gafgyt_attacks_Webcam/junk.csv', delimiter=',')\n",
    "gafgyt_attacks_Webcam_scan=pd.read_csv('gafgyt_attacks_Webcam/scan.csv', delimiter=',')\n",
    "gafgyt_attacks_Webcam_tcp=pd.read_csv('gafgyt_attacks_Webcam/tcp.csv', delimiter=',')\n",
    "gafgyt_attacks_Webcam_udp=pd.read_csv('gafgyt_attacks_Webcam/udp.csv', delimiter=',')"
   ]
  },
  {
   "cell_type": "code",
   "execution_count": null,
   "metadata": {},
   "outputs": [],
   "source": [
    "gafgyt_attacks_Webcam=pd.concat([gafgyt_attacks_Webcam_combo,gafgyt_attacks_Webcam_junk,gafgyt_attacks_Webcam_scan,gafgyt_attacks_Webcam_tcp,gafgyt_attacks_Webcam_udp],ignore_index=True)\n",
    "gafgyt_attacks_Webcam"
   ]
  },
  {
   "cell_type": "code",
   "execution_count": null,
   "metadata": {},
   "outputs": [],
   "source": [
    "mirai_attacks_1002_WHT_Security_Camera_ack=pd.read_csv('mirai_attacks_1002_WHT_Security_Camera/ack.csv', delimiter=',')\n",
    "mirai_attacks_1002_WHT_Security_Camera_scan=pd.read_csv('mirai_attacks_1002_WHT_Security_Camera/scan.csv', delimiter=',')\n",
    "mirai_attacks_1002_WHT_Security_Camera_syn=pd.read_csv('mirai_attacks_1002_WHT_Security_Camera/syn.csv', delimiter=',')\n",
    "mirai_attacks_1002_WHT_Security_Camera_udp=pd.read_csv('mirai_attacks_1002_WHT_Security_Camera/udp.csv', delimiter=',')\n",
    "mirai_attacks_1002_WHT_Security_Camera_udpplain=pd.read_csv('mirai_attacks_1002_WHT_Security_Camera/udpplain.csv', delimiter=',')"
   ]
  },
  {
   "cell_type": "code",
   "execution_count": null,
   "metadata": {},
   "outputs": [],
   "source": [
    "mirai_attacks_1002_WHT_Security_Camera=pd.concat([mirai_attacks_1002_WHT_Security_Camera_ack,mirai_attacks_1002_WHT_Security_Camera_scan,mirai_attacks_1002_WHT_Security_Camera_syn,mirai_attacks_1002_WHT_Security_Camera_udp,mirai_attacks_1002_WHT_Security_Camera_udpplain],ignore_index=True)\n",
    "mirai_attacks_1002_WHT_Security_Camera"
   ]
  },
  {
   "cell_type": "code",
   "execution_count": null,
   "metadata": {},
   "outputs": [],
   "source": [
    "mirai_attacks_1003_WHT_Security_Camera_ack=pd.read_csv('mirai_attacks_1003_WHT_Security_Camera/ack.csv', delimiter=',')\n",
    "mirai_attacks_1003_WHT_Security_Camera_scan=pd.read_csv('mirai_attacks_1003_WHT_Security_Camera/scan.csv', delimiter=',')\n",
    "mirai_attacks_1003_WHT_Security_Camera_syn=pd.read_csv('mirai_attacks_1003_WHT_Security_Camera/syn.csv', delimiter=',')\n",
    "mirai_attacks_1003_WHT_Security_Camera_udp=pd.read_csv('mirai_attacks_1003_WHT_Security_Camera/udp.csv', delimiter=',')\n",
    "mirai_attacks_1003_WHT_Security_Camera_udpplain=pd.read_csv('mirai_attacks_1003_WHT_Security_Camera/udpplain.csv', delimiter=',')"
   ]
  },
  {
   "cell_type": "code",
   "execution_count": null,
   "metadata": {},
   "outputs": [],
   "source": [
    "mirai_attacks_1003_WHT_Security_Camera=pd.concat([mirai_attacks_1003_WHT_Security_Camera_ack,mirai_attacks_1003_WHT_Security_Camera_scan,mirai_attacks_1003_WHT_Security_Camera_syn,mirai_attacks_1003_WHT_Security_Camera_udp,mirai_attacks_1003_WHT_Security_Camera_udpplain],ignore_index=True)\n",
    "mirai_attacks_1003_WHT_Security_Camera"
   ]
  },
  {
   "cell_type": "code",
   "execution_count": null,
   "metadata": {},
   "outputs": [],
   "source": [
    "mirai_attacks_737E_Security_Camera_ack=pd.read_csv('mirai_attacks_737E_Security_Camera/ack.csv', delimiter=',')\n",
    "mirai_attacks_737E_Security_Camera_scan=pd.read_csv('mirai_attacks_737E_Security_Camera/scan.csv', delimiter=',')\n",
    "mirai_attacks_737E_Security_Camera_syn=pd.read_csv('mirai_attacks_737E_Security_Camera/syn.csv', delimiter=',')\n",
    "mirai_attacks_737E_Security_Camera_udp=pd.read_csv('mirai_attacks_737E_Security_Camera/udp.csv', delimiter=',')\n",
    "mirai_attacks_737E_Security_Camera_udpplain=pd.read_csv('mirai_attacks_737E_Security_Camera/udpplain.csv', delimiter=',')"
   ]
  },
  {
   "cell_type": "code",
   "execution_count": null,
   "metadata": {},
   "outputs": [],
   "source": [
    "mirai_attacks_737E_Security_Camera=pd.concat([mirai_attacks_737E_Security_Camera_ack,mirai_attacks_737E_Security_Camera_scan,mirai_attacks_737E_Security_Camera_syn,mirai_attacks_737E_Security_Camera_udp,mirai_attacks_737E_Security_Camera_udpplain],ignore_index=True)\n",
    "mirai_attacks_737E_Security_Camera"
   ]
  },
  {
   "cell_type": "code",
   "execution_count": null,
   "metadata": {},
   "outputs": [],
   "source": [
    "mirai_attacks_838_Security_Camera_ack=pd.read_csv('mirai_attacks_838_Security_Camera/ack.csv', delimiter=',')\n",
    "mirai_attacks_838_Security_Camera_scan=pd.read_csv('mirai_attacks_838_Security_Camera/scan.csv', delimiter=',')\n",
    "mirai_attacks_838_Security_Camera_syn=pd.read_csv('mirai_attacks_838_Security_Camera/syn.csv', delimiter=',')\n",
    "mirai_attacks_838_Security_Camera_udp=pd.read_csv('mirai_attacks_838_Security_Camera/udp.csv', delimiter=',')\n",
    "mirai_attacks_838_Security_Camera_udpplain=pd.read_csv('mirai_attacks_838_Security_Camera/udpplain.csv', delimiter=',')"
   ]
  },
  {
   "cell_type": "code",
   "execution_count": null,
   "metadata": {},
   "outputs": [],
   "source": [
    "mirai_attacks_838_Security_Camera=pd.concat([mirai_attacks_838_Security_Camera_ack,mirai_attacks_838_Security_Camera_scan,mirai_attacks_838_Security_Camera_syn,mirai_attacks_838_Security_Camera_udp,mirai_attacks_838_Security_Camera_udpplain],ignore_index=True)\n",
    "mirai_attacks_838_Security_Camera"
   ]
  },
  {
   "cell_type": "code",
   "execution_count": null,
   "metadata": {},
   "outputs": [],
   "source": [
    "mirai_attacks_Baby_Monitor_ack=pd.read_csv('mirai_attacks_Baby_Monitor/ack.csv', delimiter=',')\n",
    "mirai_attacks_Baby_Monitor_scan=pd.read_csv('mirai_attacks_Baby_Monitor/scan.csv', delimiter=',')\n",
    "mirai_attacks_Baby_Monitor_syn=pd.read_csv('mirai_attacks_Baby_Monitor/syn.csv', delimiter=',')\n",
    "mirai_attacks_Baby_Monitor_udp=pd.read_csv('mirai_attacks_Baby_Monitor/udp.csv', delimiter=',')\n",
    "mirai_attacks_Baby_Monitor_udpplain=pd.read_csv('mirai_attacks_Baby_Monitor/udpplain.csv', delimiter=',')"
   ]
  },
  {
   "cell_type": "code",
   "execution_count": null,
   "metadata": {},
   "outputs": [],
   "source": [
    "mirai_attacks_Baby_Monitor=pd.concat([mirai_attacks_Baby_Monitor_ack,mirai_attacks_Baby_Monitor_scan,mirai_attacks_Baby_Monitor_syn,mirai_attacks_Baby_Monitor_udp,mirai_attacks_Baby_Monitor_udpplain],ignore_index=True)\n",
    "mirai_attacks_Baby_Monitor"
   ]
  },
  {
   "cell_type": "code",
   "execution_count": null,
   "metadata": {},
   "outputs": [],
   "source": [
    "mirai_attacks_Danmini_Doorbell_ack=pd.read_csv('mirai_attacks_Danmini_Doorbell/ack.csv', delimiter=',')\n",
    "mirai_attacks_Danmini_Doorbell_scan=pd.read_csv('mirai_attacks_Danmini_Doorbell/scan.csv', delimiter=',')\n",
    "mirai_attacks_Danmini_Doorbell_syn=pd.read_csv('mirai_attacks_Danmini_Doorbell/syn.csv', delimiter=',')\n",
    "mirai_attacks_Danmini_Doorbell_udp=pd.read_csv('mirai_attacks_Danmini_Doorbell/udp.csv', delimiter=',')\n",
    "mirai_attacks_Danmini_Doorbell_udpplain=pd.read_csv('mirai_attacks_Danmini_Doorbell/udpplain.csv', delimiter=',')"
   ]
  },
  {
   "cell_type": "code",
   "execution_count": null,
   "metadata": {},
   "outputs": [],
   "source": [
    "mirai_attacks_Danmini_Doorbell=pd.concat([mirai_attacks_Danmini_Doorbell_ack,mirai_attacks_Danmini_Doorbell_scan,mirai_attacks_Danmini_Doorbell_syn,mirai_attacks_Danmini_Doorbell_udp,mirai_attacks_Danmini_Doorbell_udpplain],ignore_index=True)\n",
    "mirai_attacks_Danmini_Doorbell"
   ]
  },
  {
   "cell_type": "code",
   "execution_count": null,
   "metadata": {},
   "outputs": [],
   "source": [
    "mirai_attacks_Ecobee_Thermostat_ack=pd.read_csv('mirai_attacks_Ecobee_Thermostat/ack.csv', delimiter=',')\n",
    "mirai_attacks_Ecobee_Thermostat_scan=pd.read_csv('mirai_attacks_Ecobee_Thermostat/scan.csv', delimiter=',')\n",
    "mirai_attacks_Ecobee_Thermostat_syn=pd.read_csv('mirai_attacks_Ecobee_Thermostat/syn.csv', delimiter=',')\n",
    "mirai_attacks_Ecobee_Thermostat_udp=pd.read_csv('mirai_attacks_Ecobee_Thermostat/udp.csv', delimiter=',')\n",
    "mirai_attacks_Ecobee_Thermostat_udpplain=pd.read_csv('mirai_attacks_Ecobee_Thermostat/udpplain.csv', delimiter=',')"
   ]
  },
  {
   "cell_type": "code",
   "execution_count": null,
   "metadata": {},
   "outputs": [],
   "source": [
    "mirai_attacks_Ecobee_Thermostat=pd.concat([mirai_attacks_Ecobee_Thermostat_ack,mirai_attacks_Ecobee_Thermostat_scan,mirai_attacks_Ecobee_Thermostat_syn,mirai_attacks_Ecobee_Thermostat_udp,mirai_attacks_Ecobee_Thermostat_udpplain],ignore_index=True)\n",
    "mirai_attacks_Ecobee_Thermostat"
   ]
  },
  {
   "cell_type": "code",
   "execution_count": null,
   "metadata": {},
   "outputs": [],
   "source": [
    "malign_traffic=pd.concat([gafgyt_attacks_1002_WHT_Security_Camera,gafgyt_attacks_1003_WHT_Security_Camera,gafgyt_attacks_737E_Security_Camera,gafgyt_attacks_838_Security_Camera,gafgyt_attacks_Baby_Monitor,gafgyt_attacks_Danmini_Doorbell,gafgyt_attacks_Ecobee_Thermostat,gafgyt_attacks_Ennio_Doorbell,gafgyt_attacks_Webcam,mirai_attacks_1002_WHT_Security_Camera,mirai_attacks_1003_WHT_Security_Camera,mirai_attacks_737E_Security_Camera,mirai_attacks_838_Security_Camera,mirai_attacks_Baby_Monitor,mirai_attacks_Danmini_Doorbell,mirai_attacks_Ecobee_Thermostat],ignore_index=True)\n"
   ]
  },
  {
   "cell_type": "code",
   "execution_count": null,
   "metadata": {},
   "outputs": [],
   "source": [
    "malign_traffic"
   ]
  },
  {
   "cell_type": "code",
   "execution_count": null,
   "metadata": {},
   "outputs": [],
   "source": [
    "malign_traffic.tail(10)"
   ]
  },
  {
   "cell_type": "code",
   "execution_count": null,
   "metadata": {},
   "outputs": [],
   "source": [
    "malign_traffic['benign']=0\n",
    "malign_traffic"
   ]
  },
  {
   "cell_type": "code",
   "execution_count": null,
   "metadata": {},
   "outputs": [],
   "source": [
    "import numpy as np"
   ]
  },
  {
   "cell_type": "code",
   "execution_count": null,
   "metadata": {},
   "outputs": [],
   "source": [
    "benign_traffic = benign_traffic.astype('float32')"
   ]
  },
  {
   "cell_type": "code",
   "execution_count": null,
   "metadata": {},
   "outputs": [],
   "source": [
    "malign_traffic = malign_traffic.astype('float32')"
   ]
  },
  {
   "cell_type": "code",
   "execution_count": null,
   "metadata": {},
   "outputs": [],
   "source": [
    "from sklearn.preprocessing import StandardScaler,MinMaxScaler"
   ]
  },
  {
   "cell_type": "code",
   "execution_count": null,
   "metadata": {},
   "outputs": [],
   "source": [
    "benign_traffic=benign_traffic.to_numpy()"
   ]
  },
  {
   "cell_type": "code",
   "execution_count": null,
   "metadata": {},
   "outputs": [],
   "source": [
    "benign_traffic.shape"
   ]
  },
  {
   "cell_type": "code",
   "execution_count": null,
   "metadata": {},
   "outputs": [],
   "source": [
    "benign_traffic"
   ]
  },
  {
   "cell_type": "code",
   "execution_count": null,
   "metadata": {},
   "outputs": [],
   "source": [
    "from sklearn.model_selection import train_test_split"
   ]
  },
  {
   "cell_type": "code",
   "execution_count": null,
   "metadata": {},
   "outputs": [],
   "source": [
    "benign_traffic_train, benign_traffic_test = train_test_split(benign_traffic, test_size=0.3, random_state=42)"
   ]
  },
  {
   "cell_type": "code",
   "execution_count": null,
   "metadata": {},
   "outputs": [],
   "source": [
    "benign_traffic_train"
   ]
  },
  {
   "cell_type": "code",
   "execution_count": null,
   "metadata": {},
   "outputs": [],
   "source": [
    "benign_traffic_train.shape\n"
   ]
  },
  {
   "cell_type": "code",
   "execution_count": null,
   "metadata": {},
   "outputs": [],
   "source": [
    "print({len(benign_traffic_train)})"
   ]
  },
  {
   "cell_type": "code",
   "execution_count": null,
   "metadata": {},
   "outputs": [],
   "source": [
    "print(benign_traffic_train.shape[1])"
   ]
  },
  {
   "cell_type": "code",
   "execution_count": null,
   "metadata": {},
   "outputs": [],
   "source": [
    "benign_traffic_train.shape"
   ]
  },
  {
   "cell_type": "code",
   "execution_count": 704,
   "metadata": {},
   "outputs": [],
   "source": [
    "benign_training_features = benign_traffic_train[:,0:-1]\n",
    "benign_training_labels = benign_traffic_train[:,-1]"
   ]
  },
  {
   "cell_type": "code",
   "execution_count": null,
   "metadata": {},
   "outputs": [],
   "source": []
  },
  {
   "cell_type": "code",
   "execution_count": null,
   "metadata": {},
   "outputs": [],
   "source": []
  },
  {
   "cell_type": "code",
   "execution_count": null,
   "metadata": {},
   "outputs": [],
   "source": [
    "benign_training_labels.shape"
   ]
  },
  {
   "cell_type": "code",
   "execution_count": null,
   "metadata": {},
   "outputs": [],
   "source": [
    "benign_training_features.shape"
   ]
  },
  {
   "cell_type": "code",
   "execution_count": null,
   "metadata": {},
   "outputs": [],
   "source": [
    "benign_testing_features = benign_traffic_test[:,0:-1]\n",
    "benign_testing_labels = benign_traffic_test[:,-1]"
   ]
  },
  {
   "cell_type": "code",
   "execution_count": null,
   "metadata": {},
   "outputs": [],
   "source": [
    "benign_testing_features.shape"
   ]
  },
  {
   "cell_type": "code",
   "execution_count": null,
   "metadata": {},
   "outputs": [],
   "source": [
    "import tensorflow as tf"
   ]
  },
  {
   "cell_type": "code",
   "execution_count": null,
   "metadata": {},
   "outputs": [],
   "source": [
    "from tensorflow.keras.models import Sequential\n",
    "from tensorflow.keras.layers import Input, Dense, Dropout"
   ]
  },
  {
   "cell_type": "code",
   "execution_count": null,
   "metadata": {},
   "outputs": [],
   "source": [
    "model = Sequential()"
   ]
  },
  {
   "cell_type": "code",
   "execution_count": null,
   "metadata": {},
   "outputs": [],
   "source": [
    "model.add(Input(shape=(115,)))\n",
    "model.add(Dense(units=16, activation='relu'))\n",
    "model.add(Dropout(0.2))\n",
    "model.add(Dense(units=8, activation='relu'))\n",
    "model.add(Dropout(0.2))\n",
    "model.add(Dense(units=1, activation='sigmoid'))"
   ]
  },
  {
   "cell_type": "code",
   "execution_count": null,
   "metadata": {},
   "outputs": [],
   "source": [
    "model.compile(optimizer='adam', loss='mean_squared_error', metrics=['accuracy'])"
   ]
  },
  {
   "cell_type": "code",
   "execution_count": null,
   "metadata": {},
   "outputs": [],
   "source": [
    "model.fit(benign_training_features,benign_training_labels, epochs=50, batch_size=100)"
   ]
  },
  {
   "cell_type": "code",
   "execution_count": null,
   "metadata": {},
   "outputs": [],
   "source": [
    "model.summary()"
   ]
  },
  {
   "cell_type": "code",
   "execution_count": null,
   "metadata": {},
   "outputs": [],
   "source": [
    "model.fit(benign_training_features,benign_training_labels, epochs=50, batch_size=100, shuffle=True, verbose=1, validation_split=0.2)"
   ]
  },
  {
   "cell_type": "code",
   "execution_count": null,
   "metadata": {},
   "outputs": [],
   "source": [
    "from matplotlib import pyplot as plt"
   ]
  },
  {
   "cell_type": "code",
   "execution_count": null,
   "metadata": {},
   "outputs": [],
   "source": [
    "malign_traffic=malign_traffic.to_numpy()"
   ]
  },
  {
   "cell_type": "code",
   "execution_count": null,
   "metadata": {},
   "outputs": [],
   "source": [
    "malign_traffic"
   ]
  },
  {
   "cell_type": "code",
   "execution_count": null,
   "metadata": {},
   "outputs": [],
   "source": [
    "malign_traffic_features = malign_traffic[:,0:-1]\n",
    "malign_traffic_labels = malign_traffic[:,-1]"
   ]
  },
  {
   "cell_type": "code",
   "execution_count": null,
   "metadata": {},
   "outputs": [],
   "source": [
    "malign_traffic_features.shape"
   ]
  },
  {
   "cell_type": "code",
   "execution_count": null,
   "metadata": {},
   "outputs": [],
   "source": [
    "testing_traffic= np.concatenate([malign_traffic,benign_traffic_test], axis=0)"
   ]
  },
  {
   "cell_type": "code",
   "execution_count": null,
   "metadata": {},
   "outputs": [],
   "source": [
    "testing_traffic.shape"
   ]
  },
  {
   "cell_type": "code",
   "execution_count": null,
   "metadata": {},
   "outputs": [],
   "source": [
    "testing_traffic"
   ]
  },
  {
   "cell_type": "code",
   "execution_count": null,
   "metadata": {},
   "outputs": [],
   "source": [
    "np.random.shuffle(testing_traffic)"
   ]
  },
  {
   "cell_type": "code",
   "execution_count": null,
   "metadata": {},
   "outputs": [],
   "source": [
    "testing_traffic"
   ]
  },
  {
   "cell_type": "code",
   "execution_count": null,
   "metadata": {},
   "outputs": [],
   "source": [
    "testing_traffic.shape"
   ]
  },
  {
   "cell_type": "code",
   "execution_count": null,
   "metadata": {},
   "outputs": [],
   "source": [
    "testing_traffic\n"
   ]
  },
  {
   "cell_type": "code",
   "execution_count": null,
   "metadata": {},
   "outputs": [],
   "source": [
    "import numpy as np"
   ]
  },
  {
   "cell_type": "code",
   "execution_count": null,
   "metadata": {},
   "outputs": [],
   "source": [
    "benign_testing_features.shape"
   ]
  },
  {
   "cell_type": "code",
   "execution_count": null,
   "metadata": {},
   "outputs": [],
   "source": [
    "malign_traffic_features.shape"
   ]
  },
  {
   "cell_type": "code",
   "execution_count": null,
   "metadata": {},
   "outputs": [],
   "source": [
    "malign_traffic"
   ]
  },
  {
   "cell_type": "code",
   "execution_count": null,
   "metadata": {},
   "outputs": [],
   "source": [
    "malign_traffic.shape"
   ]
  },
  {
   "cell_type": "code",
   "execution_count": null,
   "metadata": {},
   "outputs": [],
   "source": [
    "benign_traffic.shape"
   ]
  },
  {
   "cell_type": "code",
   "execution_count": null,
   "metadata": {},
   "outputs": [],
   "source": [
    "benign_traffic_test.shape"
   ]
  },
  {
   "cell_type": "code",
   "execution_count": null,
   "metadata": {},
   "outputs": [],
   "source": [
    "benign_traffic_test"
   ]
  },
  {
   "cell_type": "code",
   "execution_count": null,
   "metadata": {},
   "outputs": [],
   "source": [
    "benign_traffic_test"
   ]
  },
  {
   "cell_type": "code",
   "execution_count": 703,
   "metadata": {},
   "outputs": [],
   "source": [
    "testing_traffic_features = testing_traffic[:,0:-1]\n",
    "testing_traffic_labels = testing_traffic[:,-1]"
   ]
  },
  {
   "cell_type": "code",
   "execution_count": null,
   "metadata": {},
   "outputs": [],
   "source": []
  },
  {
   "cell_type": "code",
   "execution_count": 746,
   "metadata": {},
   "outputs": [],
   "source": [
    "scaler2=MinMaxScaler(feature_range=(0,1))"
   ]
  },
  {
   "cell_type": "code",
   "execution_count": 782,
   "metadata": {},
   "outputs": [
    {
     "data": {
      "text/plain": [
       "array([[8.70466614e+00, 8.69088173e+00, 6.38856697e+00, 6.34844637e+00,\n",
       "        2.01614108e-02],\n",
       "       [4.30183252e-03, 6.95045898e-03, 7.45451124e-03, 4.59072040e-03,\n",
       "        4.35654307e-03],\n",
       "       [1.84668994e+00, 1.84140313e+00, 5.84811810e-03, 4.49736649e-03,\n",
       "        2.98182736e-03],\n",
       "       ...,\n",
       "       [7.54444027e+00, 7.52840328e+00, 7.46004796e-03, 4.72819852e-03,\n",
       "        4.35654307e-03],\n",
       "       [1.18717070e+01, 1.18602352e+01, 8.76245499e+00, 8.73344421e+00,\n",
       "        2.18856186e-02],\n",
       "       [4.30183345e-03, 6.95045525e-03, 7.45451916e-03, 4.59072599e-03,\n",
       "        4.35654540e-03]])"
      ]
     },
     "execution_count": 782,
     "metadata": {},
     "output_type": "execute_result"
    }
   ],
   "source": [
    "testing_score"
   ]
  },
  {
   "cell_type": "code",
   "execution_count": null,
   "metadata": {},
   "outputs": [],
   "source": [
    "testing_traffic_features.shape"
   ]
  },
  {
   "cell_type": "code",
   "execution_count": null,
   "metadata": {},
   "outputs": [],
   "source": [
    "testing_traffic_labels.shape"
   ]
  },
  {
   "cell_type": "code",
   "execution_count": null,
   "metadata": {},
   "outputs": [],
   "source": [
    "testing_traffic_features"
   ]
  },
  {
   "cell_type": "code",
   "execution_count": null,
   "metadata": {},
   "outputs": [],
   "source": [
    "testing_traffic_labels"
   ]
  },
  {
   "cell_type": "code",
   "execution_count": null,
   "metadata": {},
   "outputs": [],
   "source": [
    "malign_traffic"
   ]
  },
  {
   "cell_type": "code",
   "execution_count": null,
   "metadata": {},
   "outputs": [],
   "source": [
    "testing_traffic_features.dtype"
   ]
  },
  {
   "cell_type": "code",
   "execution_count": null,
   "metadata": {},
   "outputs": [],
   "source": [
    "testing_traffic_features1=testing_traffic_features[:500000]\n",
    "testing_traffic_labels1=testing_traffic_labels[:500000]"
   ]
  },
  {
   "cell_type": "code",
   "execution_count": null,
   "metadata": {},
   "outputs": [],
   "source": [
    "testing_traffic_features1"
   ]
  },
  {
   "cell_type": "code",
   "execution_count": null,
   "metadata": {},
   "outputs": [],
   "source": [
    "prediction=model.predict(testing_traffic_features1)"
   ]
  },
  {
   "cell_type": "code",
   "execution_count": null,
   "metadata": {},
   "outputs": [],
   "source": [
    "plt.plot(prediction[:400])\n",
    "plt.plot(testing_traffic_labels1[:400],alpha=0.5)\n",
    "plt.xlabel('Feature')\n",
    "plt.ylabel('Label')\n",
    "plt.title('Prediction Labels')\n",
    "plt.legend(['Oracle Values','Test Values'],loc='upper right')\n",
    "plt.show()"
   ]
  },
  {
   "cell_type": "code",
   "execution_count": 669,
   "metadata": {},
   "outputs": [],
   "source": [
    "Ensemble2 = Sequential()\n",
    "Ensemble2.add(Dense(units=23, activation='relu',input_shape=(23,)))\n",
    "Ensemble2.add(Dense(units=15, activation='relu'))\n",
    "Ensemble2.add(Dense(units=23, activation='sigmoid'))\n",
    "Ensemble2.compile(optimizer='adam', loss='mean_squared_error', metrics=['accuracy'])\n"
   ]
  },
  {
   "cell_type": "code",
   "execution_count": 670,
   "metadata": {},
   "outputs": [],
   "source": [
    "Ensemble3 = Sequential()\n",
    "Ensemble3.add(Dense(units=23, activation='relu',input_shape=(23,)))\n",
    "Ensemble3.add(Dense(units=15, activation='relu'))\n",
    "Ensemble3.add(Dense(units=23, activation='sigmoid'))\n",
    "Ensemble3.compile(optimizer='adam', loss='mean_squared_error', metrics=['accuracy'])"
   ]
  },
  {
   "cell_type": "code",
   "execution_count": 671,
   "metadata": {},
   "outputs": [],
   "source": [
    "Ensemble4= Sequential()\n",
    "Ensemble4.add(Dense(units=23, activation='relu',input_shape=(23,)))\n",
    "Ensemble4.add(Dense(units=15, activation='relu'))\n",
    "Ensemble4.add(Dense(units=23, activation='sigmoid'))\n",
    "Ensemble4.compile(optimizer='adam', loss='mean_squared_error', metrics=['accuracy'])"
   ]
  },
  {
   "cell_type": "code",
   "execution_count": 672,
   "metadata": {},
   "outputs": [],
   "source": [
    "Ensemble5 = Sequential()\n",
    "Ensemble5.add(Dense(units=23, activation='relu',input_shape=(23,)))\n",
    "Ensemble5.add(Dense(units=15, activation='relu'))\n",
    "Ensemble5.add(Dense(units=23, activation='sigmoid'))\n",
    "Ensemble5.compile(optimizer='adam', loss='mean_squared_error', metrics=['accuracy'])"
   ]
  },
  {
   "cell_type": "code",
   "execution_count": 717,
   "metadata": {},
   "outputs": [],
   "source": [
    "Ensemble1 = Sequential()\n",
    "Ensemble1.add(Dense(units=23,activation='relu', input_shape=(23,)))\n",
    "Ensemble1.add(Dense(units=15, activation='relu'))\n",
    "Ensemble1.add(Dense(units=23, activation='sigmoid'))\n",
    "Ensemble1.compile(optimizer='adam', loss='mean_squared_error', metrics=['accuracy'])"
   ]
  },
  {
   "cell_type": "code",
   "execution_count": 673,
   "metadata": {},
   "outputs": [],
   "source": [
    "Output = Sequential()\n",
    "Output.add(Dense(units=5, activation='relu',input_shape=(5,)))\n",
    "Output.add(Dense(units=3, activation='relu'))\n",
    "Output.add(Dense(units=5, activation='sigmoid'))\n",
    "Output.compile(optimizer='adam', loss='mean_squared_error', metrics=['accuracy'])"
   ]
  },
  {
   "cell_type": "code",
   "execution_count": 705,
   "metadata": {},
   "outputs": [],
   "source": [
    "from sklearn.preprocessing import MinMaxScaler"
   ]
  },
  {
   "cell_type": "code",
   "execution_count": 706,
   "metadata": {},
   "outputs": [],
   "source": [
    "scaler1=MinMaxScaler(feature_range=(0,1))"
   ]
  },
  {
   "cell_type": "code",
   "execution_count": 707,
   "metadata": {},
   "outputs": [],
   "source": [
    "benign_training_features=scaler1.fit_transform(benign_training_features)"
   ]
  },
  {
   "cell_type": "code",
   "execution_count": 708,
   "metadata": {},
   "outputs": [],
   "source": [
    "testing_traffic_features=scaler1.transform(testing_traffic_features)"
   ]
  },
  {
   "cell_type": "code",
   "execution_count": 712,
   "metadata": {},
   "outputs": [],
   "source": [
    "benign_training_features1=benign_training_features[:,:23]"
   ]
  },
  {
   "cell_type": "code",
   "execution_count": 713,
   "metadata": {},
   "outputs": [],
   "source": [
    "benign_training_features2=benign_training_features[:,23:46]\n",
    "benign_training_features3=benign_training_features[:,46:69]\n",
    "benign_training_features4=benign_training_features[:,69:92]\n",
    "benign_training_features5=benign_training_features[:,92:115]"
   ]
  },
  {
   "cell_type": "code",
   "execution_count": 714,
   "metadata": {},
   "outputs": [],
   "source": [
    "score=np.zeros((benign_training_features.shape[0],5))\n",
    "    \n"
   ]
  },
  {
   "cell_type": "code",
   "execution_count": 729,
   "metadata": {},
   "outputs": [
    {
     "name": "stdout",
     "output_type": "stream",
     "text": [
      "Epoch 1/10\n",
      "12161/12161 [==============================] - 10s 857us/step - loss: 1.1367e-05 - accuracy: 0.8432\n",
      "Epoch 2/10\n",
      "12161/12161 [==============================] - 11s 879us/step - loss: 1.1393e-05 - accuracy: 0.8427\n",
      "Epoch 3/10\n",
      "12161/12161 [==============================] - 11s 867us/step - loss: 1.1376e-05 - accuracy: 0.8408\n",
      "Epoch 4/10\n",
      "12161/12161 [==============================] - 11s 895us/step - loss: 1.1344e-05 - accuracy: 0.8433\n",
      "Epoch 5/10\n",
      "12161/12161 [==============================] - 11s 898us/step - loss: 1.1231e-05 - accuracy: 0.8419\n",
      "Epoch 6/10\n",
      "12161/12161 [==============================] - 11s 896us/step - loss: 1.1275e-05 - accuracy: 0.8416\n",
      "Epoch 7/10\n",
      "12161/12161 [==============================] - 11s 895us/step - loss: 1.1157e-05 - accuracy: 0.8443\n",
      "Epoch 8/10\n",
      "12161/12161 [==============================] - 11s 910us/step - loss: 1.1238e-05 - accuracy: 0.8441\n",
      "Epoch 9/10\n",
      "12161/12161 [==============================] - 11s 879us/step - loss: 1.1191e-05 - accuracy: 0.8443\n",
      "Epoch 10/10\n",
      "12161/12161 [==============================] - 11s 885us/step - loss: 1.1179e-05 - accuracy: 0.8439\n"
     ]
    },
    {
     "data": {
      "text/plain": [
       "<tensorflow.python.keras.callbacks.History at 0x27027b4aa48>"
      ]
     },
     "execution_count": 729,
     "metadata": {},
     "output_type": "execute_result"
    }
   ],
   "source": [
    "Ensemble1.fit(benign_training_features1,benign_training_features1,epochs=10,batch_size=32)"
   ]
  },
  {
   "cell_type": "code",
   "execution_count": 730,
   "metadata": {},
   "outputs": [],
   "source": [
    "pred=Ensemble1.predict(benign_training_features1)"
   ]
  },
  {
   "cell_type": "code",
   "execution_count": 731,
   "metadata": {},
   "outputs": [],
   "source": [
    "score=np.zeros((benign_training_features1.shape[0],5))"
   ]
  },
  {
   "cell_type": "code",
   "execution_count": 732,
   "metadata": {},
   "outputs": [],
   "source": [
    "for i in range(benign_training_features.shape[0]):\n",
    "        score[i,0]= np.sqrt(metrics.mean_squared_error(pred[i],benign_training_features1[i]))\n",
    "        "
   ]
  },
  {
   "cell_type": "code",
   "execution_count": 660,
   "metadata": {},
   "outputs": [],
   "source": [
    "from sklearn import metrics"
   ]
  },
  {
   "cell_type": "code",
   "execution_count": null,
   "metadata": {},
   "outputs": [],
   "source": [
    "from tensorflow import keras"
   ]
  },
  {
   "cell_type": "code",
   "execution_count": 723,
   "metadata": {},
   "outputs": [
    {
     "name": "stdout",
     "output_type": "stream",
     "text": [
      "Epoch 1/10\n",
      "12161/12161 [==============================] - 10s 798us/step - loss: 1.0327e-04 - accuracy: 0.9739\n",
      "Epoch 2/10\n",
      "12161/12161 [==============================] - 10s 811us/step - loss: 7.2441e-05 - accuracy: 0.9750\n",
      "Epoch 3/10\n",
      "12161/12161 [==============================] - 10s 835us/step - loss: 6.0944e-05 - accuracy: 0.9754\n",
      "Epoch 4/10\n",
      "12161/12161 [==============================] - 10s 837us/step - loss: 5.4890e-05 - accuracy: 0.9754\n",
      "Epoch 5/10\n",
      "12161/12161 [==============================] - 10s 850us/step - loss: 5.0698e-05 - accuracy: 0.9750\n",
      "Epoch 6/10\n",
      "12161/12161 [==============================] - 10s 844us/step - loss: 4.8042e-05 - accuracy: 0.9750\n",
      "Epoch 7/10\n",
      "12161/12161 [==============================] - 10s 843us/step - loss: 4.5655e-05 - accuracy: 0.9753\n",
      "Epoch 8/10\n",
      "12161/12161 [==============================] - 10s 846us/step - loss: 4.3648e-05 - accuracy: 0.9758\n",
      "Epoch 9/10\n",
      "12161/12161 [==============================] - 10s 858us/step - loss: 4.2131e-05 - accuracy: 0.9762\n",
      "Epoch 10/10\n",
      "12161/12161 [==============================] - 10s 863us/step - loss: 4.0649e-05 - accuracy: 0.9768\n"
     ]
    },
    {
     "data": {
      "text/plain": [
       "<tensorflow.python.keras.callbacks.History at 0x2702544f248>"
      ]
     },
     "execution_count": 723,
     "metadata": {},
     "output_type": "execute_result"
    }
   ],
   "source": [
    "Ensemble2.fit(benign_training_features2,benign_training_features2,epochs=10,batch_size=32)"
   ]
  },
  {
   "cell_type": "code",
   "execution_count": 733,
   "metadata": {},
   "outputs": [],
   "source": [
    "pred=Ensemble2.predict(benign_training_features2)"
   ]
  },
  {
   "cell_type": "code",
   "execution_count": 734,
   "metadata": {},
   "outputs": [],
   "source": [
    "for i in range(benign_training_features.shape[0]):\n",
    "        score[i,1]= np.sqrt(metrics.mean_squared_error(pred[i],benign_training_features2[i]))"
   ]
  },
  {
   "cell_type": "code",
   "execution_count": 724,
   "metadata": {},
   "outputs": [
    {
     "name": "stdout",
     "output_type": "stream",
     "text": [
      "Epoch 1/10\n",
      "    1/12161 [..............................] - ETA: 0s - loss: 0.1672 - accuracy: 0.0000e+00WARNING:tensorflow:Callbacks method `on_train_batch_end` is slow compared to the batch time (batch time: 0.0000s vs `on_train_batch_end` time: 0.0010s). Check your callbacks.\n",
      "12161/12161 [==============================] - 10s 830us/step - loss: 0.0021 - accuracy: 0.8908s - loss: 0.0021 - accuracy: 0.\n",
      "Epoch 2/10\n",
      "12161/12161 [==============================] - 10s 830us/step - loss: 1.7420e-04 - accuracy: 0.9456\n",
      "Epoch 3/10\n",
      "12161/12161 [==============================] - 10s 851us/step - loss: 1.1841e-04 - accuracy: 0.9651\n",
      "Epoch 4/10\n",
      "12161/12161 [==============================] - 10s 850us/step - loss: 9.7838e-05 - accuracy: 0.9758\n",
      "Epoch 5/10\n",
      "12161/12161 [==============================] - 10s 857us/step - loss: 8.3136e-05 - accuracy: 0.9794\n",
      "Epoch 6/10\n",
      "12161/12161 [==============================] - 10s 859us/step - loss: 7.5657e-05 - accuracy: 0.9810\n",
      "Epoch 7/10\n",
      "12161/12161 [==============================] - 10s 853us/step - loss: 7.1741e-05 - accuracy: 0.9814\n",
      "Epoch 8/10\n",
      "12161/12161 [==============================] - 10s 863us/step - loss: 6.8999e-05 - accuracy: 0.9811\n",
      "Epoch 9/10\n",
      "12161/12161 [==============================] - 11s 867us/step - loss: 6.6730e-05 - accuracy: 0.9810\n",
      "Epoch 10/10\n",
      "12161/12161 [==============================] - 10s 854us/step - loss: 6.2116e-05 - accuracy: 0.9809\n"
     ]
    },
    {
     "data": {
      "text/plain": [
       "<tensorflow.python.keras.callbacks.History at 0x2702c70ef48>"
      ]
     },
     "execution_count": 724,
     "metadata": {},
     "output_type": "execute_result"
    }
   ],
   "source": [
    "Ensemble3.fit(benign_training_features3,benign_training_features3,epochs=10,batch_size=32)"
   ]
  },
  {
   "cell_type": "code",
   "execution_count": 735,
   "metadata": {},
   "outputs": [],
   "source": [
    "pred=Ensemble3.predict(benign_training_features3)"
   ]
  },
  {
   "cell_type": "code",
   "execution_count": 736,
   "metadata": {},
   "outputs": [],
   "source": [
    "for i in range(benign_training_features.shape[0]):\n",
    "        score[i,2]= np.sqrt(metrics.mean_squared_error(pred[i],benign_training_features3[i]))"
   ]
  },
  {
   "cell_type": "code",
   "execution_count": 727,
   "metadata": {},
   "outputs": [
    {
     "name": "stdout",
     "output_type": "stream",
     "text": [
      "Epoch 1/10\n",
      "12161/12161 [==============================] - 10s 824us/step - loss: 4.0085e-05 - accuracy: 0.9878\n",
      "Epoch 2/10\n",
      "12161/12161 [==============================] - 10s 854us/step - loss: 2.7939e-05 - accuracy: 0.9892\n",
      "Epoch 3/10\n",
      "12161/12161 [==============================] - 11s 895us/step - loss: 2.3232e-05 - accuracy: 0.9897\n",
      "Epoch 4/10\n",
      "12161/12161 [==============================] - 11s 891us/step - loss: 1.9752e-05 - accuracy: 0.9891\n",
      "Epoch 5/10\n",
      "12161/12161 [==============================] - 11s 882us/step - loss: 1.7411e-05 - accuracy: 0.9891\n",
      "Epoch 6/10\n",
      "12161/12161 [==============================] - 11s 894us/step - loss: 1.5970e-05 - accuracy: 0.9893\n",
      "Epoch 7/10\n",
      "12161/12161 [==============================] - 11s 873us/step - loss: 1.5008e-05 - accuracy: 0.9901\n",
      "Epoch 8/10\n",
      "12161/12161 [==============================] - 11s 864us/step - loss: 1.4067e-05 - accuracy: 0.9906\n",
      "Epoch 9/10\n",
      "12161/12161 [==============================] - 10s 856us/step - loss: 1.3118e-05 - accuracy: 0.9903\n",
      "Epoch 10/10\n",
      "12161/12161 [==============================] - 10s 856us/step - loss: 1.2626e-05 - accuracy: 0.9908\n"
     ]
    },
    {
     "data": {
      "text/plain": [
       "<tensorflow.python.keras.callbacks.History at 0x26e819ca908>"
      ]
     },
     "execution_count": 727,
     "metadata": {},
     "output_type": "execute_result"
    }
   ],
   "source": [
    "Ensemble4.fit(benign_training_features4,benign_training_features4,epochs=10,batch_size=32)"
   ]
  },
  {
   "cell_type": "code",
   "execution_count": 737,
   "metadata": {},
   "outputs": [],
   "source": [
    "pred=Ensemble4.predict(benign_training_features4)"
   ]
  },
  {
   "cell_type": "code",
   "execution_count": 738,
   "metadata": {},
   "outputs": [],
   "source": [
    "for i in range(benign_training_features.shape[0]):\n",
    "        score[i,3]= np.sqrt(metrics.mean_squared_error(pred[i],benign_training_features4[i]))"
   ]
  },
  {
   "cell_type": "code",
   "execution_count": 728,
   "metadata": {},
   "outputs": [
    {
     "name": "stdout",
     "output_type": "stream",
     "text": [
      "Epoch 1/10\n",
      "12161/12161 [==============================] - 10s 826us/step - loss: 0.0013 - accuracy: 0.9770\n",
      "Epoch 2/10\n",
      "12161/12161 [==============================] - 11s 902us/step - loss: 8.4150e-05 - accuracy: 0.9904\n",
      "Epoch 3/10\n",
      "12161/12161 [==============================] - 11s 909us/step - loss: 6.0230e-05 - accuracy: 0.9913\n",
      "Epoch 4/10\n",
      "12161/12161 [==============================] - 11s 891us/step - loss: 5.1543e-05 - accuracy: 0.9923\n",
      "Epoch 5/10\n",
      "12161/12161 [==============================] - 11s 882us/step - loss: 4.7152e-05 - accuracy: 0.9930\n",
      "Epoch 6/10\n",
      "12161/12161 [==============================] - 11s 882us/step - loss: 4.4068e-05 - accuracy: 0.9940\n",
      "Epoch 7/10\n",
      "12161/12161 [==============================] - 11s 870us/step - loss: 4.1742e-05 - accuracy: 0.9941\n",
      "Epoch 8/10\n",
      "12161/12161 [==============================] - 11s 865us/step - loss: 3.9310e-05 - accuracy: 0.9944\n",
      "Epoch 9/10\n",
      "12161/12161 [==============================] - 11s 866us/step - loss: 3.7279e-05 - accuracy: 0.9947\n",
      "Epoch 10/10\n",
      "12161/12161 [==============================] - 11s 869us/step - loss: 3.4875e-05 - accuracy: 0.9944\n"
     ]
    },
    {
     "data": {
      "text/plain": [
       "<tensorflow.python.keras.callbacks.History at 0x270278e9588>"
      ]
     },
     "execution_count": 728,
     "metadata": {},
     "output_type": "execute_result"
    }
   ],
   "source": [
    "Ensemble5.fit(benign_training_features5,benign_training_features5,epochs=10,batch_size=32)"
   ]
  },
  {
   "cell_type": "code",
   "execution_count": 739,
   "metadata": {},
   "outputs": [],
   "source": [
    "pred=Ensemble5.predict(benign_training_features5)"
   ]
  },
  {
   "cell_type": "code",
   "execution_count": 740,
   "metadata": {},
   "outputs": [],
   "source": [
    "for i in range(benign_training_features.shape[0]):\n",
    "        score[i,4]= np.sqrt(metrics.mean_squared_error(pred[i],benign_training_features5[i]))"
   ]
  },
  {
   "cell_type": "code",
   "execution_count": 747,
   "metadata": {},
   "outputs": [],
   "source": [
    "score_transform=scaler2.fit_transform(score)"
   ]
  },
  {
   "cell_type": "code",
   "execution_count": 756,
   "metadata": {},
   "outputs": [
    {
     "name": "stdout",
     "output_type": "stream",
     "text": [
      "Epoch 1/10\n",
      "12161/12161 [==============================] - 9s 704us/step - loss: 8.0254e-05 - accuracy: 0.7806\n",
      "Epoch 2/10\n",
      "12161/12161 [==============================] - 9s 712us/step - loss: 8.0270e-05 - accuracy: 0.7845\n",
      "Epoch 3/10\n",
      "12161/12161 [==============================] - 9s 756us/step - loss: 8.0280e-05 - accuracy: 0.7798\n",
      "Epoch 4/10\n",
      "12161/12161 [==============================] - 9s 741us/step - loss: 8.0225e-05 - accuracy: 0.7793\n",
      "Epoch 5/10\n",
      "12161/12161 [==============================] - 9s 754us/step - loss: 8.0186e-05 - accuracy: 0.7816\n",
      "Epoch 6/10\n",
      "12161/12161 [==============================] - 9s 742us/step - loss: 8.0150e-05 - accuracy: 0.7815\n",
      "Epoch 7/10\n",
      "12161/12161 [==============================] - 9s 768us/step - loss: 8.0211e-05 - accuracy: 0.7832\n",
      "Epoch 8/10\n",
      "12161/12161 [==============================] - 10s 781us/step - loss: 8.0226e-05 - accuracy: 0.7807\n",
      "Epoch 9/10\n",
      "12161/12161 [==============================] - 9s 775us/step - loss: 8.0187e-05 - accuracy: 0.7791\n",
      "Epoch 10/10\n",
      "12161/12161 [==============================] - 10s 804us/step - loss: 8.0162e-05 - accuracy: 0.7822\n"
     ]
    },
    {
     "data": {
      "text/plain": [
       "<tensorflow.python.keras.callbacks.History at 0x26e81e2c4c8>"
      ]
     },
     "execution_count": 756,
     "metadata": {},
     "output_type": "execute_result"
    }
   ],
   "source": [
    "Output.fit(score_transform,score_transform,epochs=10,batch_size=32)"
   ]
  },
  {
   "cell_type": "code",
   "execution_count": 757,
   "metadata": {},
   "outputs": [],
   "source": [
    "pred=Output.predict(score_transform)"
   ]
  },
  {
   "cell_type": "code",
   "execution_count": 758,
   "metadata": {},
   "outputs": [
    {
     "data": {
      "text/plain": [
       "array([[0.02414671, 0.01915693, 0.02144945, 0.01450673, 0.00796741],\n",
       "       [0.02724665, 0.02048108, 0.02086172, 0.03771466, 0.04372469],\n",
       "       [0.02546489, 0.01968095, 0.02243483, 0.03802314, 0.05867639],\n",
       "       ...,\n",
       "       [0.010488  , 0.00841531, 0.01351029, 0.00743538, 0.01402119],\n",
       "       [0.01690769, 0.01469851, 0.02577144, 0.01693425, 0.04015395],\n",
       "       [0.02551919, 0.0239554 , 0.04153505, 0.01434946, 0.01371428]],\n",
       "      dtype=float32)"
      ]
     },
     "execution_count": 758,
     "metadata": {},
     "output_type": "execute_result"
    }
   ],
   "source": [
    "pred"
   ]
  },
  {
   "cell_type": "code",
   "execution_count": 760,
   "metadata": {},
   "outputs": [
    {
     "data": {
      "text/plain": [
       "0.9766612"
      ]
     },
     "execution_count": 760,
     "metadata": {},
     "output_type": "execute_result"
    }
   ],
   "source": [
    "np.max(pred)"
   ]
  },
  {
   "cell_type": "code",
   "execution_count": 761,
   "metadata": {},
   "outputs": [],
   "source": [
    "RMSE=np.zeros(score_transform.shape[0])"
   ]
  },
  {
   "cell_type": "code",
   "execution_count": 762,
   "metadata": {},
   "outputs": [
    {
     "data": {
      "text/plain": [
       "(389152,)"
      ]
     },
     "execution_count": 762,
     "metadata": {},
     "output_type": "execute_result"
    }
   ],
   "source": [
    "RMSE.shape"
   ]
  },
  {
   "cell_type": "code",
   "execution_count": 763,
   "metadata": {},
   "outputs": [],
   "source": [
    "for i in range(score_transform.shape[0]):\n",
    "        RMSE[i]= np.sqrt(metrics.mean_squared_error(pred[i],score_transform[i]))"
   ]
  },
  {
   "cell_type": "code",
   "execution_count": 764,
   "metadata": {},
   "outputs": [],
   "source": [
    "Soglia= np.max(RMSE)"
   ]
  },
  {
   "cell_type": "code",
   "execution_count": 765,
   "metadata": {},
   "outputs": [
    {
     "data": {
      "text/plain": [
       "0.37106783303192575"
      ]
     },
     "execution_count": 765,
     "metadata": {},
     "output_type": "execute_result"
    }
   ],
   "source": [
    "Soglia"
   ]
  },
  {
   "cell_type": "code",
   "execution_count": 766,
   "metadata": {},
   "outputs": [],
   "source": [
    "testing_traffic_features1=testing_traffic_features[:,:23]\n",
    "testing_traffic_features2=testing_traffic_features[:,23:46]\n",
    "testing_traffic_features3=testing_traffic_features[:,46:69]\n",
    "testing_traffic_features4=testing_traffic_features[:,69:92]\n",
    "testing_traffic_features5=testing_traffic_features[:,92:115]"
   ]
  },
  {
   "cell_type": "code",
   "execution_count": 767,
   "metadata": {},
   "outputs": [],
   "source": [
    "pred=Ensemble1.predict(testing_traffic_features1)"
   ]
  },
  {
   "cell_type": "code",
   "execution_count": 768,
   "metadata": {},
   "outputs": [],
   "source": [
    "testing_score=np.zeros((testing_traffic_features.shape[0],5))"
   ]
  },
  {
   "cell_type": "code",
   "execution_count": 769,
   "metadata": {},
   "outputs": [],
   "source": [
    "for i in range(testing_traffic_features.shape[0]):\n",
    "        testing_score[i,0]= np.sqrt(metrics.mean_squared_error(pred[i],testing_traffic_features1[i]))"
   ]
  },
  {
   "cell_type": "code",
   "execution_count": 773,
   "metadata": {},
   "outputs": [
    {
     "data": {
      "text/plain": [
       "array([[8.70466614e+00, 0.00000000e+00, 0.00000000e+00, 0.00000000e+00,\n",
       "        0.00000000e+00],\n",
       "       [4.30183252e-03, 0.00000000e+00, 0.00000000e+00, 0.00000000e+00,\n",
       "        0.00000000e+00],\n",
       "       [1.84668994e+00, 0.00000000e+00, 0.00000000e+00, 0.00000000e+00,\n",
       "        0.00000000e+00],\n",
       "       ...,\n",
       "       [7.54444027e+00, 0.00000000e+00, 0.00000000e+00, 0.00000000e+00,\n",
       "        0.00000000e+00],\n",
       "       [1.18717070e+01, 0.00000000e+00, 0.00000000e+00, 0.00000000e+00,\n",
       "        0.00000000e+00],\n",
       "       [4.30183345e-03, 0.00000000e+00, 0.00000000e+00, 0.00000000e+00,\n",
       "        0.00000000e+00]])"
      ]
     },
     "execution_count": 773,
     "metadata": {},
     "output_type": "execute_result"
    }
   ],
   "source": [
    "testing_score"
   ]
  },
  {
   "cell_type": "code",
   "execution_count": 774,
   "metadata": {},
   "outputs": [],
   "source": [
    "pred=Ensemble2.predict(testing_traffic_features2)"
   ]
  },
  {
   "cell_type": "code",
   "execution_count": 775,
   "metadata": {},
   "outputs": [],
   "source": [
    "for i in range(testing_traffic_features.shape[0]):\n",
    "        testing_score[i,1]= np.sqrt(metrics.mean_squared_error(pred[i],testing_traffic_features2[i]))"
   ]
  },
  {
   "cell_type": "code",
   "execution_count": 776,
   "metadata": {},
   "outputs": [],
   "source": [
    "pred=Ensemble3.predict(testing_traffic_features3)"
   ]
  },
  {
   "cell_type": "code",
   "execution_count": 777,
   "metadata": {},
   "outputs": [],
   "source": [
    "for i in range(testing_traffic_features.shape[0]):\n",
    "        testing_score[i,2]= np.sqrt(metrics.mean_squared_error(pred[i],testing_traffic_features3[i]))"
   ]
  },
  {
   "cell_type": "code",
   "execution_count": 778,
   "metadata": {},
   "outputs": [],
   "source": [
    "pred=Ensemble4.predict(testing_traffic_features4)"
   ]
  },
  {
   "cell_type": "code",
   "execution_count": 779,
   "metadata": {},
   "outputs": [],
   "source": [
    "for i in range(testing_traffic_features.shape[0]):\n",
    "        testing_score[i,3]= np.sqrt(metrics.mean_squared_error(pred[i],testing_traffic_features4[i]))"
   ]
  },
  {
   "cell_type": "code",
   "execution_count": 780,
   "metadata": {},
   "outputs": [],
   "source": [
    "pred=Ensemble5.predict(testing_traffic_features5)"
   ]
  },
  {
   "cell_type": "code",
   "execution_count": 781,
   "metadata": {},
   "outputs": [],
   "source": [
    "for i in range(testing_traffic_features.shape[0]):\n",
    "        testing_score[i,4]= np.sqrt(metrics.mean_squared_error(pred[i],testing_traffic_features5[i]))"
   ]
  },
  {
   "cell_type": "code",
   "execution_count": 783,
   "metadata": {},
   "outputs": [],
   "source": [
    "testing_score_transform=scaler2.transform(testing_score)"
   ]
  },
  {
   "cell_type": "code",
   "execution_count": 787,
   "metadata": {},
   "outputs": [
    {
     "data": {
      "text/plain": [
       "array([[8.26035828e+01, 4.03626767e+01, 4.88713819e+01, 5.38419478e+01,\n",
       "        1.68219317e-01],\n",
       "       [3.75950160e-02, 2.89194870e-02, 4.55572665e-02, 3.65940738e-02,\n",
       "        2.50326196e-02],\n",
       "       [1.75217587e+01, 8.54929652e+00, 3.32657624e-02, 3.58022935e-02,\n",
       "        1.25781654e-02],\n",
       "       ...,\n",
       "       [7.15931019e+01, 3.49633798e+01, 4.55996313e-02, 3.77600932e-02,\n",
       "        2.50326196e-02],\n",
       "       [1.12658629e+02, 5.50831910e+01, 6.70354623e+01, 7.40702853e+01,\n",
       "        1.83840050e-01],\n",
       "       [3.75950248e-02, 2.89194697e-02, 4.55573270e-02, 3.65941212e-02,\n",
       "        2.50326407e-02]])"
      ]
     },
     "execution_count": 787,
     "metadata": {},
     "output_type": "execute_result"
    }
   ],
   "source": [
    "testing_score_transform"
   ]
  },
  {
   "cell_type": "code",
   "execution_count": 789,
   "metadata": {},
   "outputs": [],
   "source": [
    "pred=Output.predict(testing_score_transform)"
   ]
  },
  {
   "cell_type": "code",
   "execution_count": 791,
   "metadata": {},
   "outputs": [],
   "source": [
    "Final_RMSE=np.zeros(testing_score_transform.shape[0])"
   ]
  },
  {
   "cell_type": "code",
   "execution_count": 792,
   "metadata": {},
   "outputs": [],
   "source": [
    "for i in range(testing_score_transform.shape[0]):\n",
    "        Final_RMSE[i]= np.sqrt(metrics.mean_squared_error(pred[i],testing_score_transform[i]))"
   ]
  },
  {
   "cell_type": "code",
   "execution_count": 794,
   "metadata": {},
   "outputs": [],
   "source": [
    "Final_labels=np.zeros(testing_score_transform.shape[0])"
   ]
  },
  {
   "cell_type": "code",
   "execution_count": 795,
   "metadata": {},
   "outputs": [],
   "source": [
    "for i in range(testing_score_transform.shape[0]):\n",
    "        if Final_RMSE[i]<=Soglia:\n",
    "            Final_labels[i]=1\n",
    "        else:\n",
    "            Final_labels[i]=0"
   ]
  },
  {
   "cell_type": "code",
   "execution_count": 796,
   "metadata": {},
   "outputs": [],
   "source": [
    "a=0"
   ]
  },
  {
   "cell_type": "code",
   "execution_count": 797,
   "metadata": {},
   "outputs": [],
   "source": [
    "b=0"
   ]
  },
  {
   "cell_type": "code",
   "execution_count": 798,
   "metadata": {},
   "outputs": [],
   "source": [
    "for i in range(testing_score_transform.shape[0]):\n",
    "        if Final_labels[i]==0:\n",
    "            a=a+1\n",
    "        else:\n",
    "            b=b+1"
   ]
  },
  {
   "cell_type": "code",
   "execution_count": 799,
   "metadata": {},
   "outputs": [
    {
     "data": {
      "text/plain": [
       "4691049"
      ]
     },
     "execution_count": 799,
     "metadata": {},
     "output_type": "execute_result"
    }
   ],
   "source": [
    "a"
   ]
  },
  {
   "cell_type": "code",
   "execution_count": 800,
   "metadata": {},
   "outputs": [
    {
     "data": {
      "text/plain": [
       "1982405"
      ]
     },
     "execution_count": 800,
     "metadata": {},
     "output_type": "execute_result"
    }
   ],
   "source": [
    "b"
   ]
  },
  {
   "cell_type": "code",
   "execution_count": null,
   "metadata": {},
   "outputs": [],
   "source": []
  }
 ],
 "metadata": {
  "kernelspec": {
   "display_name": "Python 3",
   "language": "python",
   "name": "python3"
  },
  "language_info": {
   "codemirror_mode": {
    "name": "ipython",
    "version": 3
   },
   "file_extension": ".py",
   "mimetype": "text/x-python",
   "name": "python",
   "nbconvert_exporter": "python",
   "pygments_lexer": "ipython3",
   "version": "3.7.6"
  }
 },
 "nbformat": 4,
 "nbformat_minor": 4
}
